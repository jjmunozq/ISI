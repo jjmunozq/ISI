{
  "nbformat": 4,
  "nbformat_minor": 0,
  "metadata": {
    "colab": {
      "name": "Taller_1__Tallbots_y_Smallbots_jjmunozq.ipynb",
      "provenance": [],
      "collapsed_sections": []
    },
    "kernelspec": {
      "display_name": "Python 3",
      "language": "python",
      "name": "python3"
    },
    "language_info": {
      "codemirror_mode": {
        "name": "ipython",
        "version": 3
      },
      "file_extension": ".py",
      "mimetype": "text/x-python",
      "name": "python",
      "nbconvert_exporter": "python",
      "pygments_lexer": "ipython3",
      "version": "3.6.9"
    }
  },
  "cells": [
    {
      "cell_type": "markdown",
      "metadata": {
        "id": "laznLMiyBXLU"
      },
      "source": [
        "# Taller 1\n",
        "## Introducción a los Sistemas Inteligentes\n",
        "\n",
        "Para que sea evaluado, este taller debe ser enviado a través de [UNCode](https://uncode.unal.edu.co/) antes de la fecha límite.\n",
        "\n",
        "--------------------\n",
        "\n",
        "# Tallbots y Smallbots\n",
        "\n",
        "Aima y Arya son mejores amigas, pero no solo son amigas. Son ingenieras de software y expertas en inteligencia artifical de la Unión Nacional de Algoritmos de Localización (UNAL). En su tiempo libre a Aima le gusta retar a Arya con distintos problemas y puzzles. \n",
        "\n",
        "Esta vez Aima decidio usar el problema de los Tallbots y Smallbots. Hay 2 Tallbots y 2 Smallbots, los bots quieren cruzar un rio y deben hacerlo en un bote, ya que si tocan el agua se dañarián. \n",
        "\n",
        "Pero hay un problema: El bote que tienen es muy pequeño para llevarlos a todos y solo pueden estar al mismo tiempo como máximo 1 Tallbot ó 2 Smallbots, por ejemplo si hubiera 2 Tallbots o 2 Smallbots y 1 Tallbot el bote se hundiría y los bots estarían tristes. Formalmente, el bote tiene capacidad de carga 2, los Smallbots tienen peso 1 y los Tallbots tienen peso 2. El bote no se puede mover si no lleva ningún bot. \n",
        "\n",
        "Sin embargo, Arya habiendo resuelto muchos problemas similares lo solucionó en menos de 1 minuto! Aima decidió darle una versión más díficil del problema a Arya: Dada una configuración inicial y final de bots Arya tiene que decirle a Aima la cantidad de pasos más pequeña y la correspondiente secuencia de pasos para llegar del estado inicial al estado final. En esta versión del problema puede haber una cantidad arbitraria de Tallbots y de Smallbots al igual que la capacidad del bote puede variar. Puede asumir que los movimientos de los bots son instantaneos, es decir, solo se cuenta como un paso de tiempo el movimiento de un lado a otro.\n",
        "\n",
        "Arya esta completamente segura que puede escribir un programa que resuelva el problema general en menos de 10 minutos pero esta ocupada trabajando en un proyecto que le asigno el presidente de la UNAL. ¿Puedes ayudar a Arya a resolver este problema?"
      ]
    },
    {
      "cell_type": "markdown",
      "metadata": {
        "id": "f5Je2WecAwL0"
      },
      "source": [
        "## 1. Defina una clase que represente el problema generalizado de Smallbots y Tallbots\n",
        "\n",
        "Un estado del problema se puede representar usando una tupla de 3 posiciones donde el primer elemento representa el número de Tallbots al lado izquierdo, el segundo el númeor de Smallbots en el lado izquierdo y el último elemento de que lado se encuentra el bote. Por ejemplo, asumiendo que hay 2 Tallbots y 2 Smallbots, el siguiente vector:\n",
        "\n",
        "```python\n",
        "(1, 2, 0)\n",
        "```\n",
        "\n",
        "Representaria un estado en donde hay 1 Tallbot, 2 Smallbots y el bote en el lado izquierdo y un Tallbot en el lado derecho.\n",
        "\n",
        "\n",
        "Su programa sera evaluado en distintos casos de prueba y debe soportar el siguiente formato de entrada y salida. (No cambiar nombre ni firma de los metodos)\n",
        "\n",
        "**Entrada:**\n",
        "\n",
        "**init** debe aceptar 4 parametros. **initial** y **goal** tuplas representando el estado inicial y final, **n** y **m** representando el número total de Tallbots y Smallbots correspondientemente y **c** la capacidad del bote. Todos los valores son números enteros.\n",
        "\n",
        "Para cada estado **(tb, sb, l)**. **tb** es el número de Tallbots en el lado izquierdo, **sb** el número de Smallbots en el lado izquierdo y **l** el lado en que se encuentra el bote en el estado correspondiente, 0 significa que esta en la izquierda y 1 en la derecha.\n",
        "\n",
        "Está garantizado que los valores cumplen con la siguientes condiciones:\n",
        "\n",
        "**1 <= n + m <= 15**\n",
        "\n",
        "**2 <= c <= 20**\n",
        "\n",
        "**0 <= tb, sb <= n**\n",
        "\n",
        "**0 <= li, lf <= 1**\n",
        "\n",
        "**Salida**\n",
        "\n",
        "La función `action` debe retornar todas las posibles acciones para un estado dado en una lista de tuplas. No importa el orden de la lista. El primer elemento de cada tupla representa cuantos Tallbots se van a mover y el segundo elemento cuantos Smallbots se van a mover.\n",
        "\n",
        "La función `result` debe retornar el estado resultante de una acción sobre un estado. \n",
        "\n",
        "```python\n",
        ">> p = TBSBProblem((1, 2, 0), (0, 0, 1), 1, 2, 2)\n",
        ">> print(p.actions(p.initial))\n",
        ">> [(0, 1), (0, 2), (1, 0)]\n",
        ">> print(p.result(p.initial, (0, 2))\n",
        ">> (1, 0, 1)\n",
        "```\n",
        "\n",
        "--------------------------------\n",
        "\n",
        "\n",
        "```python\n",
        ">> p = TBSBProblem((1, 2, 1), (0, 0, 1), 1, 2, 2)\n",
        ">> print(p.actions(p.initial))\n",
        ">> []\n",
        "```\n",
        "\n",
        "--------------------------------\n",
        "\n",
        "```python\n",
        ">> p = TBSBProblem((1, 2, 0), (0, 0, 1), 1, 2, 6)\n",
        ">> print(p.actions(p.initial))\n",
        ">> [(0, 1), (0, 2), (1, 0), (1, 1), (1, 2)]\n",
        ">> print(p.result(p.initial, (1, 2))\n",
        ">> (0, 0, 1)\n",
        ">> print(p.is_goal(p.result(p.initial, (1, 2))))\n",
        ">> True\n",
        "```"
      ]
    },
    {
      "cell_type": "code",
      "metadata": {
        "id": "fs_eMwNS_HQc"
      },
      "source": [
        "class Problem(object):\n",
        "    \"\"\"The abstract class for a formal problem. A new domain subclasses this,\n",
        "    overriding `actions` and `results`, and perhaps other methods.\n",
        "    The default heuristic is 0 and the default action cost is 1 for all states.\n",
        "    When yiou create an instance of a subclass, specify `initial`, and `goal` states \n",
        "    (or give an `is_goal` method) and perhaps other keyword args for the subclass.\"\"\"\n",
        "\n",
        "    def __init__(self, initial=None, goal=None, **kwds): \n",
        "        self.__dict__.update(initial=initial, goal=goal, **kwds) \n",
        "        \n",
        "    def actions(self, state):        raise NotImplementedError\n",
        "    def result(self, state, action): raise NotImplementedError\n",
        "    def is_goal(self, state):        return state == self.goal\n",
        "    def action_cost(self, s, a, s1): return 1\n",
        "    def h(self, node):               return 0\n",
        "    \n",
        "    def __str__(self):\n",
        "        return '{}({!r}, {!r})'.format(\n",
        "            type(self).__name__, self.initial, self.goal)\n",
        "        \n",
        "class TBSBProblem(Problem):\n",
        "\n",
        "  def __init__(self, initial, goal, n, m, c):\n",
        "      '''\n",
        "      initial: tupla representando el estado inicial de la forma (tb, sb, side). \n",
        "                tb es el número de Tallbots en el lado izquierdo, sb el número \n",
        "                de Smallbots en el lado izquierdo y side el lado en que se encuentra \n",
        "                el bote en el estado correspondiente, 0 significa que esta en \n",
        "                la izquierda y 1 en la derecha.\n",
        "      goal: tupla representando el estado objetivo, con la misma convención de\n",
        "      initial.\n",
        "      n: número total de Tallbots\n",
        "      m: número total de Smallbots\n",
        "      c: capacidad del bote\n",
        "      '''\n",
        "    ### Your code goes here\n",
        "      self.initial,self.goal=initial,goal\n",
        "      self.n,self.m,self.c=n,m,c\n",
        "      return None\n",
        "\n",
        "  def actions(self, state):\n",
        "    '''\n",
        "    state: Tupla reperesentando un estado de la forma (tb, sb, side)\n",
        "\n",
        "    Returns: [] Lista de tuplas representado las acciones posibles en el estado state,\n",
        "    cada tupla con la forma (tb, sb) donde tb es el número de Tallbots que se van a mover\n",
        "    y sb el número de Smallbots que se van a mover.\n",
        "    '''\n",
        "    ### Your code goes here\n",
        "    movs = []\n",
        "    side = state[2]\n",
        "    if(side == 0):\n",
        "      tb = state[0]\n",
        "      sb = state[1]\n",
        "    else:\n",
        "       tb = self.n - state[0]\n",
        "       sb = self.m - state[1]\n",
        "    for i in range(tb+1):\n",
        "      for j in range(sb+1): \n",
        "        if ((i > 0) or (j > 0)) and (2*i + j) <= self.c :\n",
        "          movs.append((i,j))\n",
        "    return movs   \n",
        "    raise None\n",
        "\n",
        "  def result(self, state, action):\n",
        "    '''\n",
        "    state: Tupla reperesentando un estado de la forma (tb, sb, side)\n",
        "    action: Acción representada de la forma (tb, sb)\n",
        "\n",
        "    Returns: Tupla representando el estado resultante al realizar la acción en el estado state.\n",
        "    '''\n",
        "    ### Your code goes here\n",
        "    if state[2] == 1:\n",
        "      sb = state[1]\n",
        "      sb = sb + action[1]\n",
        "      tb = state[0]\n",
        "      tb = tb + action[0]\n",
        "      side = 0\n",
        "    else:     \n",
        "      sb = state[1]\n",
        "      sb = sb - action[1]\n",
        "      tb = state[0]\n",
        "      tb = tb - action[0]\n",
        "      side = 1\n",
        "    return (tb,sb,side)"
      ],
      "execution_count": 12,
      "outputs": []
    },
    {
      "cell_type": "code",
      "metadata": {
        "id": "6U7qvT_oe8Cb",
        "colab": {
          "base_uri": "https://localhost:8080/"
        },
        "outputId": "ab8dbb6f-4ee8-46ff-f012-3046107f5dce"
      },
      "source": [
        "#TEST_CELL\n",
        "#Celda para hacer pruebas\n",
        "p = TBSBProblem((1, 2, 0), (0, 0, 1), 1, 2, 6)\n",
        "print(p.actions(p.initial))"
      ],
      "execution_count": 14,
      "outputs": [
        {
          "output_type": "stream",
          "name": "stdout",
          "text": [
            "[(0, 1), (0, 2), (1, 0), (1, 1), (1, 2)]\n"
          ]
        }
      ]
    },
    {
      "cell_type": "code",
      "source": [
        "p = TBSBProblem((1, 2, 1), (0, 0, 1), 1, 3, 2)\n",
        "print(p.actions(p.initial))"
      ],
      "metadata": {
        "colab": {
          "base_uri": "https://localhost:8080/"
        },
        "id": "uqscqmecq_DG",
        "outputId": "11fc5753-8ac3-428a-ac5f-410ecac91069"
      },
      "execution_count": 13,
      "outputs": [
        {
          "output_type": "stream",
          "name": "stdout",
          "text": [
            "[(0, 1)]\n"
          ]
        }
      ]
    },
    {
      "cell_type": "markdown",
      "metadata": {
        "id": "oxcVFdkNCtnI"
      },
      "source": [
        "## 2. Defina una función que resuelva el problema general\n",
        "\n",
        "Escriba una función que resuelva el problema de los Tallbots y Smallbots para una entrada igual del punto anterior. \n",
        "\n",
        "**Salida**\n",
        "Debe retornar la longitud del camino más corto y la secuencia de pasos a seguir. Si hay varios soluciones retorne cualquiera y si no hay solución retorne -1.\n",
        "\n",
        "**Ejemplos**\n",
        "\n",
        "```python\n",
        ">> print(solve((1, 2, 1), (0, 0, 1), 1, 2, 2))\n",
        ">> -1\n",
        ">> print(solve((1, 2, 0), (0, 0, 1), 1, 2, 2))\n",
        ">> (5, [(0, 2), (0, 1), (1, 0), (0, 1), (0, 2)])\n",
        ">> print(solve((2, 0, 1), (1, 1, 0), 2, 2, 2))\n",
        ">> (5, [(0, 1), (1, 0), (0, 1), (0, 2), (0, 1)])\n",
        ">> print(solve((2, 2, 0), (0, 0, 1), 2, 2, 2))\n",
        ">> (9, [(0, 2), (0, 1), (1, 0), (0, 1), (0, 2), (0, 1), (1, 0), (0, 1), (0, 2)])\n",
        "```\n",
        "**Explicación:**\n",
        "En el primer caso el bote empieza en la derecha y los bots en la izquierda, por lo que no pueden realizar ningún movimiento."
      ]
    },
    {
      "cell_type": "code",
      "metadata": {
        "id": "4gmC0NQ7L65D"
      },
      "source": [
        "import math\n",
        "import heapq\n",
        "from collections import deque\n",
        "\n",
        "class Problem(object):\n",
        "    \"\"\"The abstract class for a formal problem. A new domain subclasses this,\n",
        "    overriding `actions` and `results`, and perhaps other methods.\n",
        "    The default heuristic is 0 and the default action cost is 1 for all states.\n",
        "    When yiou create an instance of a subclass, specify `initial`, and `goal` states \n",
        "    (or give an `is_goal` method) and perhaps other keyword args for the subclass.\"\"\"\n",
        "\n",
        "    def __init__(self, initial=None, goal=None, **kwds): \n",
        "        self.__dict__.update(initial=initial, goal=goal, **kwds) \n",
        "        \n",
        "    def actions(self, state):        raise NotImplementedError\n",
        "    def result(self, state, action): raise NotImplementedError\n",
        "    def is_goal(self, state):        return state == self.goal\n",
        "    def action_cost(self, s, a, s1): return 1\n",
        "    def h(self, node):               return 0\n",
        "    \n",
        "    def __str__(self):\n",
        "        return '{}({!r}, {!r})'.format(\n",
        "            type(self).__name__, self.initial, self.goal)\n",
        "    \n",
        "\n",
        "class Node:\n",
        "    \"A Node in a search tree.\"\n",
        "    def __init__(self, state, parent=None, action=None, path_cost=0):\n",
        "        self.__dict__.update(state=state, parent=parent, action=action, path_cost=path_cost)\n",
        "\n",
        "    def __repr__(self): return '<{}>'.format(self.state)\n",
        "    def __len__(self): return 0 if self.parent is None else (1 + len(self.parent))\n",
        "    def __lt__(self, other): return self.path_cost < other.path_cost\n",
        "    def __getstate__(self,index): return self.state[index]\n",
        "        \n",
        "    \n",
        "failure = Node('failure', path_cost=math.inf) # Indicates an algorithm couldn't find a solution.\n",
        "cutoff  = Node('cutoff',  path_cost=math.inf) # Indicates iterative deepening search was cut off.\n",
        "    \n",
        "    \n",
        "def expand(problem, node): #extande el nodo\n",
        "    \"Expand a node, generating the children nodes.\"\n",
        "    s = node.state\n",
        "    for action in problem.actions(s):\n",
        "        s1 = problem.result(s, action)\n",
        "        cost = node.path_cost + problem.action_cost(s, action, s1)\n",
        "        yield Node(s1, node, action, cost)\n",
        "        \n",
        "\n",
        "def path_actions(node):\n",
        "    \"The sequence of actions to get to this node.\"\n",
        "    if node.parent is None:\n",
        "        return []  \n",
        "    return path_actions(node.parent) + [node.action]\n",
        "\n",
        "\n",
        "def path_states(node):\n",
        "    \"The sequence of states to get to this node.\"\n",
        "    if node in (cutoff, failure, None): \n",
        "        return []\n",
        "    return path_states(node.parent) + [node.state]"
      ],
      "execution_count": 23,
      "outputs": []
    },
    {
      "cell_type": "code",
      "metadata": {
        "id": "9M9bgTYgMSQj"
      },
      "source": [
        "FIFOQueue = deque\n",
        "\n",
        "LIFOQueue = list\n",
        "\n",
        "class PriorityQueue:\n",
        "    \"\"\"A queue in which the item with minimum f(item) is always popped first.\"\"\"\n",
        "\n",
        "    def __init__(self, items=(), key=lambda x: x): \n",
        "        self.key = key\n",
        "        self.items = [] # a heap of (score, item) pairs\n",
        "        for item in items:\n",
        "            self.add(item)\n",
        "         \n",
        "    def add(self, item):\n",
        "        \"\"\"Add item to the queuez.\"\"\"\n",
        "        pair = (self.key(item), item)\n",
        "        heapq.heappush(self.items, pair)\n",
        "\n",
        "    def pop(self):\n",
        "        \"\"\"Pop and return the item with min f(item) value.\"\"\"\n",
        "        return heapq.heappop(self.items)[1]\n",
        "    \n",
        "    def top(self): return self.items[0][1]\n",
        "\n",
        "    def __len__(self): return len(self.items)"
      ],
      "execution_count": 24,
      "outputs": []
    },
    {
      "cell_type": "code",
      "metadata": {
        "id": "mG8mnIbCMfUR"
      },
      "source": [
        "def breadth_first_search(problem):\n",
        "    \"Search shallowest nodes in the search tree first.\"\n",
        "    node = Node(problem.initial)\n",
        "    if problem.is_goal(problem.initial):\n",
        "        return node\n",
        "    frontier = FIFOQueue([node])\n",
        "    reached = {problem.initial}\n",
        "    while frontier:\n",
        "        node = frontier.pop()\n",
        "        for child in expand(problem, node):\n",
        "            s = child.state\n",
        "            if problem.is_goal(s):\n",
        "                return child\n",
        "            if s not in reached:\n",
        "                reached.add(s)\n",
        "                frontier.appendleft(child)\n",
        "    return failure"
      ],
      "execution_count": 25,
      "outputs": []
    },
    {
      "cell_type": "code",
      "metadata": {
        "id": "KJCNxLObCoBa"
      },
      "source": [
        "def solve(initial, goal, n, m, c):\n",
        "  '''\n",
        "  initial: tupla representando el estado inicial de la forma (tb, sb, side). \n",
        "            tb es el número de Tallbots en el lado izquierdo, sb el número \n",
        "            de Smallbots en el lado izquierdo y side el lado en que se encuentra \n",
        "            el bote en el estado correspondiente, 0 significa que esta en \n",
        "            la izquierda y 1 en la derecha.\n",
        "  goal: tupla representando el estado objetivo, con la misma convención de\n",
        "  initial.\n",
        "  n: número total de Tallbots\n",
        "  m: número total de Smallbots\n",
        "  c: capacidad del bote\n",
        "  \n",
        "  Returns: tupla (x, [...]), donde x es el tamaño de la solucion más corta y [...] es la\n",
        "  lista de acciones para solucionar el problema en x pasos. -1 si no existe solución.\n",
        "  '''\n",
        "  ### Your code goes here\n",
        "  p = TBSBProblem(initial, goal, n, m, c)\n",
        "  solve = breadth_first_search(p)\n",
        "  if(len(path_actions(solve))<=0):\n",
        "    return -1\n",
        "  else: return(len(path_actions(solve)),path_actions(solve))\n",
        "  return None "
      ],
      "execution_count": 26,
      "outputs": []
    },
    {
      "cell_type": "code",
      "metadata": {
        "id": "ALQxMKvX2XUm",
        "colab": {
          "base_uri": "https://localhost:8080/"
        },
        "outputId": "4a99804d-8aab-4869-8dfd-6063e7f80657"
      },
      "source": [
        "#TEST_CELL\n",
        "print(solve((1, 2, 1), (0, 0, 1), 1, 2, 2))"
      ],
      "execution_count": 21,
      "outputs": [
        {
          "output_type": "stream",
          "name": "stdout",
          "text": [
            "-1\n"
          ]
        }
      ]
    },
    {
      "cell_type": "code",
      "source": [
        "print(solve((1, 2, 0), (0, 0, 1), 1, 2, 2))"
      ],
      "metadata": {
        "colab": {
          "base_uri": "https://localhost:8080/"
        },
        "id": "u2bZ2Vjf8ApF",
        "outputId": "0e11c431-ba8a-449a-e053-dc097b79c181"
      },
      "execution_count": 27,
      "outputs": [
        {
          "output_type": "stream",
          "name": "stdout",
          "text": [
            "(5, [(0, 2), (0, 1), (1, 0), (0, 1), (0, 2)])\n"
          ]
        }
      ]
    },
    {
      "cell_type": "markdown",
      "metadata": {
        "id": "bgbUd_mbxPjh"
      },
      "source": [
        "## 3. Defina una función que retorne todas las soluciones de longitud minima posibles al problema\n",
        "\n",
        "**Entrada**\n",
        "Igual que el punto anterior\n",
        "\n",
        "**Salida**\n",
        "Su programa debe retornar el tamaño de las soluciones y una lista de listas (o tuplas) que representen las soluciones, si no existe ninguna solución retornar -1\n",
        "\n",
        "**Ejemplos**\n",
        "\n",
        "```python\n",
        ">> print(solve_all((2, 2, 0), (0, 0, 1), 2, 2, 2))\n",
        ">> (9, [[(0, 2), (0, 1), (1, 0), (0, 1), (0, 2), (0, 1), (1, 0), (0, 1), (0, 2)]])\n",
        "```\n",
        "------------\n",
        "```python\n",
        ">> print(solve_all((4, 4, 0), (0, 0, 1), 4, 4, 4))\n",
        "# Esta tiene 52 soluciones diferente. Se deben retornar todas.\n",
        ">> (7,\n",
        " [[(0, 3), (0, 1), (1, 2), (0, 1), (2, 0), (0, 1), (1, 2)],\n",
        "  [(0, 3), (0, 1), (2, 0), (0, 1), (2, 0), (0, 1), (0, 4)],\n",
        "  [(0, 4), (0, 1), (2, 0), (0, 1), (1, 2), (0, 1), (1, 1)],\n",
        "  [(0, 4), (0, 1), (2, 0), (0, 1), (1, 2), (1, 0), (2, 0)],\n",
        "  [(0, 4), (0, 1), (2, 0), (0, 1), (2, 0), (0, 1), (0, 3)]\n",
        "  ...\n",
        "  ...\n",
        "  ...])\n",
        "```"
      ]
    },
    {
      "cell_type": "code",
      "metadata": {
        "id": "fJTb_Q8fxOew"
      },
      "source": [
        "def solve_all(initial, goal, n, m, c):\n",
        "  '''\n",
        "  initial: tupla representando el estado inicial de la forma (tb, sb, side). \n",
        "            tb es el número de Tallbots en el lado izquierdo, sb el número \n",
        "            de Smallbots en el lado izquierdo y side el lado en que se encuentra \n",
        "            el bote en el estado correspondiente, 0 significa que esta en \n",
        "            la izquierda y 1 en la derecha.\n",
        "  goal: tupla representando el estado objetivo, con la misma convención de\n",
        "  initial.\n",
        "  n: número total de Tallbots\n",
        "  m: número total de Smallbots\n",
        "  c: capacidad del bote\n",
        "\n",
        "  Returns: tupla (x, [[...], ...]) donde x es el tamaño de la solución más corta \n",
        "  y [[...], ...] es una lista de listas con todas las soluciones al problema de\n",
        "   longitud x. Si no existe solución retornar -1.\n",
        "  '''\n",
        "  ### Your code goes here\n",
        "  \n",
        "  return None"
      ],
      "execution_count": null,
      "outputs": []
    },
    {
      "cell_type": "code",
      "metadata": {
        "id": "NuXtJS0wfXwL"
      },
      "source": [
        "#TEST_CELL"
      ],
      "execution_count": null,
      "outputs": []
    }
  ]
}