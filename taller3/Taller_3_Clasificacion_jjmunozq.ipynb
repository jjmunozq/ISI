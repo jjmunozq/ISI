{
  "nbformat": 4,
  "nbformat_minor": 0,
  "metadata": {
    "colab": {
      "name": "Taller_3_Clasificacion_jjmunozq.ipynb",
      "provenance": [],
      "collapsed_sections": []
    },
    "kernelspec": {
      "display_name": "Python 3",
      "language": "python",
      "name": "python3"
    },
    "language_info": {
      "codemirror_mode": {
        "name": "ipython",
        "version": 3
      },
      "file_extension": ".py",
      "mimetype": "text/x-python",
      "name": "python",
      "nbconvert_exporter": "python",
      "pygments_lexer": "ipython3",
      "version": "3.7.6"
    }
  },
  "cells": [
    {
      "cell_type": "markdown",
      "metadata": {
        "id": "viE_xL9_VXxm"
      },
      "source": [
        "# Taller 3: Clasificación\n",
        "\n",
        "## [Introducción a los Sistemas Inteligentes](https://dis.unal.edu.co/~fgonza/)\n",
        "\n",
        "\n",
        "-------------------\n",
        "\n",
        "Aima ha notado tu presencia en la Unión Nacional de Algoritmos de Localización (UNAL). Siendo esta una institución de alto prestigio ha decidido ponerte a prueba. Para ello te ha asignado a trabajar en un challenge de Kaggle.\n",
        "\n",
        "El hundimiento del RMS Titanic es uno de los naufragios más famosos de la historia. El 15 de abril de 1912, el Titanic se hundió después de estrellarse con un iceberg, matando 1502 de 2224 pasageros y tripulación. Este evento sacudió toda la comunidad internacional e implico mejoras en las medidas de seguridad para Barcos.\n",
        "\n",
        "Una de las razones de tantas perdidas humanas fue la falta de botes salvavidas. Aunque la sobrevivencia de una persona se regia un poco por la suerte algunos grupos de personas tenian mayor chance de sobrevivir que otros, como mujeres, niños y miembros de la clase alta.\n",
        "\n",
        "En este reto se le solicita que complete el análisis sobre que tipo de personas eran más propensas a sobrevivir. En particular se le solicita que aplique las herramientas del machine learning para predecir que pasajeros del RMS Titanic sobrevivieron.\n",
        "[Ver más](https://www.kaggle.com/c/titanic/overview)\n",
        "\n",
        "\n",
        "**Para descargar el archivo de datos en el siguiente link: [titanic.csv](https://drive.google.com/file/d/1KZD9Ic2Gmd39yLlFlHSSs6lgDqyWuPCW/view?usp=sharing)**\n",
        "\n",
        "----------------------------------\n",
        "La siguiente tabla muestra información sobre (algunas) variables presentes en el dataset\n",
        "\n",
        "Data Dictionary\n",
        "```\n",
        "Variable\tDefinition\tKey\n",
        "survived \tSurvival \t0 = No, 1 = Yes\n",
        "pclass\t\tTicket class \t1 = 1st, 2 = 2nd, 3 = 3rd\n",
        "sex \t\tSex \t\n",
        "Age \t\tAge in years \t\n",
        "sibsp \t\t# of siblings / spouses aboard the Titanic \t\n",
        "parch \t\t# of parents / children aboard the Titanic \t\n",
        "ticket \t\tTicket number \t\n",
        "fare \t\tPassenger fare \t\n",
        "cabin \t\tCabin number \t\n",
        "embarked \tPort of Embarkation \tC = Cherbourg, Q = Queenstown, S = Southampton\n",
        "```\n",
        "\n",
        "#### Variable Notes\n",
        "\n",
        "- **pclass**: A proxy for socio-economic status (SES)\n",
        "    1st = Upper\n",
        "    2nd = Middle\n",
        "    3rd = Lower\n",
        "\n",
        "- **age**: Age is fractional if less than 1. If the age is estimated, is it in the form of xx.5\n",
        "\n",
        "- **sibsp**: The dataset defines family relations in this way...\n",
        "    Sibling = brother, sister, stepbrother, stepsister\n",
        "    Spouse = husband, wife (mistresses and fiancés were ignored)\n",
        "\n",
        "- **parch**: The dataset defines family relations in this way...\n",
        "    Parent = mother, father\n",
        "    Child = daughter, son, stepdaughter, stepson\n",
        "\n",
        "    Some children travelled only with a nanny, therefore parch=0 for them.\n",
        "\n",
        "-------------------\n",
        "\n",
        "#### Notas adicionales:\n",
        "\n",
        "Sus modelos seran evaluados usando la métrica accuracy. No modifique la firma de las funciones (nombre y parametros). La plataforma de evaluación tendrá una copia del archivo titanic.csv. Para su evaluación local, deben descargar el archivo y subirlo a Colab."
      ]
    },
    {
      "cell_type": "markdown",
      "metadata": {
        "id": "WztzmQqRkcZt"
      },
      "source": [
        "# 1 Procesamiento y Exploración de Datos"
      ]
    },
    {
      "cell_type": "markdown",
      "metadata": {
        "id": "N92YrUGZoQEi"
      },
      "source": [
        "## 1.1 Cargue los datos\n",
        "* Algunas columnas tienen valores null, este es un reto común con el que se encontrar. Más adelante nos ocuparemos de esto. \n",
        "* Extraiga las features y el target del dataframe en dos variables. X, y.\n",
        "* Antes de ejecutar el código en la siguiente celda cargue el archivo `titanic.csv` en la raiz del sistema de archivos del ambiente de ejecución usando la opción correspondiente en el menú lateral."
      ]
    },
    {
      "cell_type": "code",
      "metadata": {
        "id": "QF4X0wldV3Ae"
      },
      "source": [
        "import sklearn\n",
        "import pandas as pd\n",
        "from sklearn.model_selection import train_test_split\n",
        "\n",
        "# Path donde se encuentra el archivo de datos.\n",
        "path = 'titanic.csv'\n",
        "df = pd.read_csv(path, index_col='PassengerId')\n",
        "\n",
        "X, y = df.drop(axis=1,columns=['Survived']), df.Survived"
      ],
      "execution_count": 1,
      "outputs": []
    },
    {
      "cell_type": "code",
      "metadata": {
        "id": "IcOchePkYTyS",
        "colab": {
          "base_uri": "https://localhost:8080/"
        },
        "outputId": "ed24921b-d1e2-4a23-cb42-c788883891f4"
      },
      "source": [
        "df.info()"
      ],
      "execution_count": 2,
      "outputs": [
        {
          "output_type": "stream",
          "name": "stdout",
          "text": [
            "<class 'pandas.core.frame.DataFrame'>\n",
            "Int64Index: 891 entries, 1 to 891\n",
            "Data columns (total 11 columns):\n",
            " #   Column    Non-Null Count  Dtype  \n",
            "---  ------    --------------  -----  \n",
            " 0   Survived  891 non-null    int64  \n",
            " 1   Pclass    891 non-null    int64  \n",
            " 2   Name      891 non-null    object \n",
            " 3   Sex       891 non-null    object \n",
            " 4   Age       714 non-null    float64\n",
            " 5   SibSp     891 non-null    int64  \n",
            " 6   Parch     891 non-null    int64  \n",
            " 7   Ticket    891 non-null    object \n",
            " 8   Fare      891 non-null    float64\n",
            " 9   Cabin     204 non-null    object \n",
            " 10  Embarked  889 non-null    object \n",
            "dtypes: float64(2), int64(4), object(5)\n",
            "memory usage: 83.5+ KB\n"
          ]
        }
      ]
    },
    {
      "cell_type": "markdown",
      "metadata": {
        "id": "iSo4d6E7tQqH"
      },
      "source": [
        "## 1.2 Extraiga las variables númericas que no tengan datos faltantes del dataset\n",
        "Debe determinar que variables columnas son de tipo numérico y no tienen datos faltantes. Para hacer esto use el atributo `dtypes` de los objetos de tipo `DataFrame` y el método `count()`.\n",
        "\n",
        "Implemente la función `extract_numerial` para obtener estos features del Dataframe."
      ]
    },
    {
      "cell_type": "code",
      "metadata": {
        "id": "8wGKKroftQqU"
      },
      "source": [
        "def extract_features(X, features):\n",
        "    '''\n",
        "    X: dataframe como se define en 1.1\n",
        "    features: lista de features a ser extraidas\n",
        "    returns: X derivado con únicamente las columnas en features\n",
        "    '''\n",
        "    return X[features]\n",
        "\n",
        "def extract_numerical(X):\n",
        "    '''\n",
        "    X: dataframe como se define en 1.1\n",
        "    returns: dataframe derivado que puede ser usado para entrenar un modelo (sin variables categoricas )\n",
        "    '''\n",
        "    nameV = list(X.dtypes.index)\n",
        "\n",
        "\n",
        "    attr_ints = [] \n",
        "    numregs = df.shape[0] \n",
        "\n",
        "    for i in nameV:\n",
        "      if (X.dtypes[i] in [\"float64\", \"int64\"]):\n",
        "        if (X[i].count() == numregs):\n",
        "          attr_ints.append(i)\n",
        "    \n",
        "    result = extract_features(X, attr_ints)\n",
        "\n",
        "    return result"
      ],
      "execution_count": 2,
      "outputs": []
    },
    {
      "cell_type": "code",
      "source": [
        "extract_numerical(df)"
      ],
      "metadata": {
        "colab": {
          "base_uri": "https://localhost:8080/",
          "height": 455
        },
        "id": "Y0IBSn-a4ZIv",
        "outputId": "8fca0d5e-18bb-439d-a5e5-e79d39846554"
      },
      "execution_count": 3,
      "outputs": [
        {
          "output_type": "execute_result",
          "data": {
            "text/plain": [
              "             Survived  Pclass  SibSp  Parch     Fare\n",
              "PassengerId                                         \n",
              "1                   0       3      1      0   7.2500\n",
              "2                   1       1      1      0  71.2833\n",
              "3                   1       3      0      0   7.9250\n",
              "4                   1       1      1      0  53.1000\n",
              "5                   0       3      0      0   8.0500\n",
              "...               ...     ...    ...    ...      ...\n",
              "887                 0       2      0      0  13.0000\n",
              "888                 1       1      0      0  30.0000\n",
              "889                 0       3      1      2  23.4500\n",
              "890                 1       1      0      0  30.0000\n",
              "891                 0       3      0      0   7.7500\n",
              "\n",
              "[891 rows x 5 columns]"
            ],
            "text/html": [
              "\n",
              "  <div id=\"df-261e5c13-e05b-4d5d-a0f1-95e84aabe4c3\">\n",
              "    <div class=\"colab-df-container\">\n",
              "      <div>\n",
              "<style scoped>\n",
              "    .dataframe tbody tr th:only-of-type {\n",
              "        vertical-align: middle;\n",
              "    }\n",
              "\n",
              "    .dataframe tbody tr th {\n",
              "        vertical-align: top;\n",
              "    }\n",
              "\n",
              "    .dataframe thead th {\n",
              "        text-align: right;\n",
              "    }\n",
              "</style>\n",
              "<table border=\"1\" class=\"dataframe\">\n",
              "  <thead>\n",
              "    <tr style=\"text-align: right;\">\n",
              "      <th></th>\n",
              "      <th>Survived</th>\n",
              "      <th>Pclass</th>\n",
              "      <th>SibSp</th>\n",
              "      <th>Parch</th>\n",
              "      <th>Fare</th>\n",
              "    </tr>\n",
              "    <tr>\n",
              "      <th>PassengerId</th>\n",
              "      <th></th>\n",
              "      <th></th>\n",
              "      <th></th>\n",
              "      <th></th>\n",
              "      <th></th>\n",
              "    </tr>\n",
              "  </thead>\n",
              "  <tbody>\n",
              "    <tr>\n",
              "      <th>1</th>\n",
              "      <td>0</td>\n",
              "      <td>3</td>\n",
              "      <td>1</td>\n",
              "      <td>0</td>\n",
              "      <td>7.2500</td>\n",
              "    </tr>\n",
              "    <tr>\n",
              "      <th>2</th>\n",
              "      <td>1</td>\n",
              "      <td>1</td>\n",
              "      <td>1</td>\n",
              "      <td>0</td>\n",
              "      <td>71.2833</td>\n",
              "    </tr>\n",
              "    <tr>\n",
              "      <th>3</th>\n",
              "      <td>1</td>\n",
              "      <td>3</td>\n",
              "      <td>0</td>\n",
              "      <td>0</td>\n",
              "      <td>7.9250</td>\n",
              "    </tr>\n",
              "    <tr>\n",
              "      <th>4</th>\n",
              "      <td>1</td>\n",
              "      <td>1</td>\n",
              "      <td>1</td>\n",
              "      <td>0</td>\n",
              "      <td>53.1000</td>\n",
              "    </tr>\n",
              "    <tr>\n",
              "      <th>5</th>\n",
              "      <td>0</td>\n",
              "      <td>3</td>\n",
              "      <td>0</td>\n",
              "      <td>0</td>\n",
              "      <td>8.0500</td>\n",
              "    </tr>\n",
              "    <tr>\n",
              "      <th>...</th>\n",
              "      <td>...</td>\n",
              "      <td>...</td>\n",
              "      <td>...</td>\n",
              "      <td>...</td>\n",
              "      <td>...</td>\n",
              "    </tr>\n",
              "    <tr>\n",
              "      <th>887</th>\n",
              "      <td>0</td>\n",
              "      <td>2</td>\n",
              "      <td>0</td>\n",
              "      <td>0</td>\n",
              "      <td>13.0000</td>\n",
              "    </tr>\n",
              "    <tr>\n",
              "      <th>888</th>\n",
              "      <td>1</td>\n",
              "      <td>1</td>\n",
              "      <td>0</td>\n",
              "      <td>0</td>\n",
              "      <td>30.0000</td>\n",
              "    </tr>\n",
              "    <tr>\n",
              "      <th>889</th>\n",
              "      <td>0</td>\n",
              "      <td>3</td>\n",
              "      <td>1</td>\n",
              "      <td>2</td>\n",
              "      <td>23.4500</td>\n",
              "    </tr>\n",
              "    <tr>\n",
              "      <th>890</th>\n",
              "      <td>1</td>\n",
              "      <td>1</td>\n",
              "      <td>0</td>\n",
              "      <td>0</td>\n",
              "      <td>30.0000</td>\n",
              "    </tr>\n",
              "    <tr>\n",
              "      <th>891</th>\n",
              "      <td>0</td>\n",
              "      <td>3</td>\n",
              "      <td>0</td>\n",
              "      <td>0</td>\n",
              "      <td>7.7500</td>\n",
              "    </tr>\n",
              "  </tbody>\n",
              "</table>\n",
              "<p>891 rows × 5 columns</p>\n",
              "</div>\n",
              "      <button class=\"colab-df-convert\" onclick=\"convertToInteractive('df-261e5c13-e05b-4d5d-a0f1-95e84aabe4c3')\"\n",
              "              title=\"Convert this dataframe to an interactive table.\"\n",
              "              style=\"display:none;\">\n",
              "        \n",
              "  <svg xmlns=\"http://www.w3.org/2000/svg\" height=\"24px\"viewBox=\"0 0 24 24\"\n",
              "       width=\"24px\">\n",
              "    <path d=\"M0 0h24v24H0V0z\" fill=\"none\"/>\n",
              "    <path d=\"M18.56 5.44l.94 2.06.94-2.06 2.06-.94-2.06-.94-.94-2.06-.94 2.06-2.06.94zm-11 1L8.5 8.5l.94-2.06 2.06-.94-2.06-.94L8.5 2.5l-.94 2.06-2.06.94zm10 10l.94 2.06.94-2.06 2.06-.94-2.06-.94-.94-2.06-.94 2.06-2.06.94z\"/><path d=\"M17.41 7.96l-1.37-1.37c-.4-.4-.92-.59-1.43-.59-.52 0-1.04.2-1.43.59L10.3 9.45l-7.72 7.72c-.78.78-.78 2.05 0 2.83L4 21.41c.39.39.9.59 1.41.59.51 0 1.02-.2 1.41-.59l7.78-7.78 2.81-2.81c.8-.78.8-2.07 0-2.86zM5.41 20L4 18.59l7.72-7.72 1.47 1.35L5.41 20z\"/>\n",
              "  </svg>\n",
              "      </button>\n",
              "      \n",
              "  <style>\n",
              "    .colab-df-container {\n",
              "      display:flex;\n",
              "      flex-wrap:wrap;\n",
              "      gap: 12px;\n",
              "    }\n",
              "\n",
              "    .colab-df-convert {\n",
              "      background-color: #E8F0FE;\n",
              "      border: none;\n",
              "      border-radius: 50%;\n",
              "      cursor: pointer;\n",
              "      display: none;\n",
              "      fill: #1967D2;\n",
              "      height: 32px;\n",
              "      padding: 0 0 0 0;\n",
              "      width: 32px;\n",
              "    }\n",
              "\n",
              "    .colab-df-convert:hover {\n",
              "      background-color: #E2EBFA;\n",
              "      box-shadow: 0px 1px 2px rgba(60, 64, 67, 0.3), 0px 1px 3px 1px rgba(60, 64, 67, 0.15);\n",
              "      fill: #174EA6;\n",
              "    }\n",
              "\n",
              "    [theme=dark] .colab-df-convert {\n",
              "      background-color: #3B4455;\n",
              "      fill: #D2E3FC;\n",
              "    }\n",
              "\n",
              "    [theme=dark] .colab-df-convert:hover {\n",
              "      background-color: #434B5C;\n",
              "      box-shadow: 0px 1px 3px 1px rgba(0, 0, 0, 0.15);\n",
              "      filter: drop-shadow(0px 1px 2px rgba(0, 0, 0, 0.3));\n",
              "      fill: #FFFFFF;\n",
              "    }\n",
              "  </style>\n",
              "\n",
              "      <script>\n",
              "        const buttonEl =\n",
              "          document.querySelector('#df-261e5c13-e05b-4d5d-a0f1-95e84aabe4c3 button.colab-df-convert');\n",
              "        buttonEl.style.display =\n",
              "          google.colab.kernel.accessAllowed ? 'block' : 'none';\n",
              "\n",
              "        async function convertToInteractive(key) {\n",
              "          const element = document.querySelector('#df-261e5c13-e05b-4d5d-a0f1-95e84aabe4c3');\n",
              "          const dataTable =\n",
              "            await google.colab.kernel.invokeFunction('convertToInteractive',\n",
              "                                                     [key], {});\n",
              "          if (!dataTable) return;\n",
              "\n",
              "          const docLinkHtml = 'Like what you see? Visit the ' +\n",
              "            '<a target=\"_blank\" href=https://colab.research.google.com/notebooks/data_table.ipynb>data table notebook</a>'\n",
              "            + ' to learn more about interactive tables.';\n",
              "          element.innerHTML = '';\n",
              "          dataTable['output_type'] = 'display_data';\n",
              "          await google.colab.output.renderOutput(dataTable, element);\n",
              "          const docLink = document.createElement('div');\n",
              "          docLink.innerHTML = docLinkHtml;\n",
              "          element.appendChild(docLink);\n",
              "        }\n",
              "      </script>\n",
              "    </div>\n",
              "  </div>\n",
              "  "
            ]
          },
          "metadata": {},
          "execution_count": 3
        }
      ]
    },
    {
      "cell_type": "markdown",
      "metadata": {
        "id": "_2tMdM9HY3I-"
      },
      "source": [
        "## 1.3 Entrene modelos de regresion logística y naïve bayes sobre los variables númericas\n",
        "\n",
        "Para este punto debe implementar dos funciones:\n",
        "- `train_logit`: para entrenar modelos de _Regresión Logística_. Esta función debe retornar un modelo ya entrenado de regresión logística siendo de la clase `LogisticRegression` de sklearn.\n",
        "    El modelo logístico debe superar 0.68 de presición.\n",
        "\n",
        "\n",
        "- `train_bayes`: para entrenar modelos de tipo _Naïve Bayes_. Esta función debe retornar un modelo ya entrenado de Naïve Bayes siendo de la clase `GaussianNB` de sklearn.\n",
        "    Este modelo debe superar 0.67 de presición.\n",
        "    \n",
        "**Peso del punto: 2.0**"
      ]
    },
    {
      "cell_type": "code",
      "metadata": {
        "id": "bF9LjdMBZ6en"
      },
      "source": [
        "from sklearn.linear_model import LogisticRegression\n",
        "from sklearn.naive_bayes import GaussianNB\n",
        "\n",
        "def train_logit(X, y):\n",
        "    '''\n",
        "    X: dataframe derivado de df como se define en 1.1\n",
        "    y: target como se define en 1.1\n",
        "    returns (LogisticRegression): modelo entrenado con los datos X y y\n",
        "    '''\n",
        "    #clf = clasificador\n",
        "    clf = LogisticRegression()\n",
        "    clf.fit(X, y)\n",
        "    \n",
        "    return clf\n",
        "\n",
        "def train_bayes(X, y):\n",
        "    '''\n",
        "    X: dataframe derivado de df como se define en 1.1\n",
        "    y: target como se define en 1.1\n",
        "    returns (GaussianNB): modelo entrenado con los datos X y y\n",
        "    '''\n",
        "    clf2 = GaussianNB()\n",
        "    clf2.fit(X, y)\n",
        "    \n",
        "    return clf2"
      ],
      "execution_count": 4,
      "outputs": []
    },
    {
      "cell_type": "code",
      "metadata": {
        "id": "_wT7I4lHYTyi",
        "colab": {
          "base_uri": "https://localhost:8080/"
        },
        "outputId": "ff96a188-0276-45f2-d069-ea2d8066b2af"
      },
      "source": [
        "# Cell for testing.\n",
        "X_numerical = extract_numerical(X)\n",
        "logit = train_logit(X_numerical, y)\n",
        "bayes = train_bayes(X_numerical, y)\n",
        "\n",
        "print(logit.score(X_numerical, y))\n",
        "print(bayes.score(X_numerical, y))"
      ],
      "execution_count": 5,
      "outputs": [
        {
          "output_type": "stream",
          "name": "stdout",
          "text": [
            "0.6879910213243546\n",
            "0.6778900112233446\n"
          ]
        }
      ]
    },
    {
      "cell_type": "markdown",
      "metadata": {
        "id": "n4ppH_x8dcmd"
      },
      "source": [
        "## 1.4 Entrene los modelos con los datos procesados y la feature 'Sex' con label encoding\n",
        "### 1.4.1 Haga label-encoding de la feature 'Sex'\n",
        "\n",
        "Label encoding consiste en asignar un label a cada grupo de datos, en este caso 'female' obtiene el label 1 y 'male' el label 0, o al revés. Lo importante es que los labels sean valores númericos.\n",
        "\n",
        "* Puede hacer un `for`\n",
        "* Puede usar `.map()` de Pandas sobre `X['Sex']`\n",
        "* Puede usar `sklearn.preprocessing.LabelEncoder`\n",
        "\n",
        "Cree un DataFrame que contenga las característica numéricas del punto 1.2 y que además tenga una columna correspondiente a la característica 'Sex' con label encoding.\n",
        "Para esto, implemente la función `process_data`.\n",
        "\n",
        "**Peso del punto: 1.0**"
      ]
    },
    {
      "cell_type": "code",
      "metadata": {
        "id": "jU1epCJrXCNk"
      },
      "source": [
        "def process_data(X):\n",
        "    '''\n",
        "    X : dataframe como se define en 1.1\n",
        "    returns (Dataframe): dataframe derivado de X con columnas númericas incluyendo 'Sex' con label encoding\n",
        "    '''\n",
        "    serieSexo = extract_features(X, \"Sex\").map({\"male\":0,\"female\":1})\n",
        "    numRegs = X.shape[0]    \n",
        "    listSex = list (serieSexo.values)\n",
        "    \n",
        "    X_numerical = extract_numerical(X)\n",
        "    X_numerical_ampliado = X_numerical.assign(Sex = listSex)\n",
        "    \n",
        "    return X_numerical_ampliado\n",
        "    "
      ],
      "execution_count": 6,
      "outputs": []
    },
    {
      "cell_type": "markdown",
      "metadata": {
        "id": "m5B83wUpeY7-"
      },
      "source": [
        "### 1.4.2 Entrene los modelos usando la nueva feature 'Sex'\n",
        "Usando las funciones ya implementadas anteriormente, haga pruebas con el nuevo Dataframe que contiene la columna 'sex'.\n",
        "\n",
        "\n",
        "**El modelo logístico debe superar 0.79 de precisión y bayes 0.78.**"
      ]
    },
    {
      "cell_type": "code",
      "metadata": {
        "id": "Uy5bYn7hd1Qr",
        "colab": {
          "base_uri": "https://localhost:8080/"
        },
        "outputId": "b1c89233-8bae-4821-848e-a0bfe7ca65a4"
      },
      "source": [
        "X_processed = process_data(X)\n",
        "logit = train_logit(X_processed, y)\n",
        "bayes = train_bayes(X_processed, y)\n",
        "\n",
        "print(logit.score(X_processed, y))\n",
        "print(bayes.score(X_processed, y))"
      ],
      "execution_count": 7,
      "outputs": [
        {
          "output_type": "stream",
          "name": "stdout",
          "text": [
            "0.7957351290684624\n",
            "0.7890011223344556\n"
          ]
        }
      ]
    },
    {
      "cell_type": "markdown",
      "metadata": {
        "id": "fEhgFtrVkVYU"
      },
      "source": [
        "# 2 Métricas de Desempeño"
      ]
    },
    {
      "cell_type": "markdown",
      "metadata": {
        "id": "5Rbb0vvab3p0"
      },
      "source": [
        "## 2.1 Defina una función que encuentre los Falsos Positivos y los Falsos Negativos de un modelo en un conjunto de prueba.\n",
        "\n",
        "Para este punto debe considerar como negativo _no supervivencia_ y como positivo _supervivencia_.\n",
        "\n",
        "Implemente la función `fpFn` que retorne una tupla de tipo (FP, FN) donde _FP_ son los falsos positivos y _FN_ los falsos negativos.\n",
        "\n",
        "**Peso del punto: 1.0**"
      ]
    },
    {
      "cell_type": "code",
      "metadata": {
        "id": "IUSDDk2Hbfol"
      },
      "source": [
        "def fpFn(y_true, y_pred):\n",
        "    '''\n",
        "    y_true: lista con las etiquetas originales del dataset\n",
        "    y_pred: lista con las etiquetas predichas por un modelo\n",
        "    Returns:\n",
        "    (FP, FN) : Tupla donde FP son los falsos positivos, FN son los falsos negativos\n",
        "    '''\n",
        "    FP = 0\n",
        "    FN = 0\n",
        "\n",
        "    casos = len(y_true)\n",
        "    for i in range(casos):\n",
        "      if (y_pred[i] == 1 and y_true[i] == 0):\n",
        "        FP += 1\n",
        "      if (y_pred[i] == 0 and y_true[i] == 1):\n",
        "        FN += 1\n",
        "    return (FP,FN)"
      ],
      "execution_count": 3,
      "outputs": []
    },
    {
      "cell_type": "markdown",
      "metadata": {
        "id": "IjnEMUFyc7Gq"
      },
      "source": [
        "## 2.2 (1.0) Defina una función que encuentre la Sensibilidad y Especificidad de un modelo en un conjunto de prueba.\n",
        "\n",
        "\n",
        "Recuerdas qué AIMA te contó una vez:\n",
        "\n",
        "'La sensibilidad caracteriza la capacidad de la prueba para detectar la enfermedad en sujetos enfermos. La especificidad caracteriza la capacidad de la prueba para detectar la ausencia de la enfermedad en sujetos sanos.'\n",
        "\n",
        "\n",
        "Implemente la función `seEs` que retorne una tupla de tipo (SE, ES) donde _SE_ es la sensibilidad y _ES_ es la especificidad.\n",
        "\n",
        "**Peso del punto: 1.0**"
      ]
    },
    {
      "cell_type": "code",
      "metadata": {
        "id": "6OVo9oJgcWnJ"
      },
      "source": [
        "from sklearn.metrics import confusion_matrix\n",
        "def seEs(y_true, y_pred):\n",
        "    '''\n",
        "    Entrada:\n",
        "    y_true: lista con las etiquetas originales del dataset\n",
        "    y_pred: etiquetas predichas por un modelo\n",
        "    Salida:\n",
        "    (SE, ES) : SE es la Sensibilidad, ES la Especificidad\n",
        "    '''\n",
        "    tn, fp, fn, tp = confusion_matrix(y_true, y_pred).ravel()\n",
        "    SE = tp / (tp + fn)\n",
        "    ES = tn / (tn + fp)\n",
        "    return (SE,ES)"
      ],
      "execution_count": 7,
      "outputs": []
    }
  ]
}